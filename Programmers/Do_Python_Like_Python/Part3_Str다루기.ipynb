{
  "nbformat": 4,
  "nbformat_minor": 0,
  "metadata": {
    "colab": {
      "name": "Part3_Str다루기.ipynb",
      "provenance": [],
      "authorship_tag": "ABX9TyO8swNHdrja0MA2JZfddrsj",
      "include_colab_link": true
    },
    "kernelspec": {
      "name": "python3",
      "display_name": "Python 3"
    },
    "language_info": {
      "name": "python"
    }
  },
  "cells": [
    {
      "cell_type": "markdown",
      "metadata": {
        "id": "view-in-github",
        "colab_type": "text"
      },
      "source": [
        "<a href=\"https://colab.research.google.com/github/jo1132/Endless_Studying/blob/main/Programmers/Do_Python_Like_Python/Part3_Str%EB%8B%A4%EB%A3%A8%EA%B8%B0.ipynb\" target=\"_parent\"><img src=\"https://colab.research.google.com/assets/colab-badge.svg\" alt=\"Open In Colab\"/></a>"
      ]
    },
    {
      "cell_type": "markdown",
      "source": [
        "# 프로그래머스 파이썬을 파이썬 답게"
      ],
      "metadata": {
        "id": "58zzzM2WIsui"
      }
    },
    {
      "cell_type": "markdown",
      "source": [
        "## 문자열 정렬하기\n",
        "- 문자열 s와 자연수 n이 입력으로 주어집니다.\n",
        "문자열 s를 좌측 / 가운데. 우측 정렬한 길이 n인 문자열을 한 줄식 프린트 해보세요."
      ],
      "metadata": {
        "id": "8hMb_BONIyVg"
      }
    },
    {
      "cell_type": "code",
      "execution_count": 3,
      "metadata": {
        "colab": {
          "base_uri": "https://localhost:8080/"
        },
        "id": "EDCvJbiMHZBc",
        "outputId": "6eb47ffd-0332-4a8f-94bc-7726abfab558"
      },
      "outputs": [
        {
          "output_type": "stream",
          "name": "stdout",
          "text": [
            "abc    \n",
            "  abc  \n",
            "    abc\n",
            "3  \n",
            " 3 \n",
            "  3\n"
          ]
        }
      ],
      "source": [
        "def solution(data):\n",
        "  # 내코드 ----------------------------------------------\n",
        "  '''\n",
        "  s, n = data.strip().split(' ')\n",
        "  n = int(n)\n",
        "  n = (n - len(s))//2\n",
        "  space = n*' '\n",
        "  print(s+space+space)\n",
        "  print(space+s+space)\n",
        "  print(space+space+s)\n",
        "  '''\n",
        "\n",
        "  #강사님 코드 ------------------------------------------\n",
        "  s, n = data.strip().split(' ')\n",
        "  n = int(n)\n",
        "  print(s.ljust(n))\n",
        "  print(s.center(n))\n",
        "  print(s.rjust(n))\n",
        "solution(\"abc 7\")\n",
        "solution(\"3 3\")"
      ]
    },
    {
      "cell_type": "markdown",
      "source": [
        "## 알파벳 출력하기\n",
        "- 입력으로 0이 주어지면 영문 소문자 알파벳을, 입력으로 1이 주어지면 영문 대문자 알파벳을 사전 순으로 출력하는 코드를 자세요"
      ],
      "metadata": {
        "id": "X0vtVs0TJsIN"
      }
    },
    {
      "cell_type": "code",
      "source": [
        "def solution(num):\n",
        "  num = int(num.strip())\n",
        "\n",
        "  #내 코드-------------------------------------------------\n",
        "  '''\n",
        "  arr = [chr(number) for number in range(65, 91)]\n",
        "  answer = ''\n",
        "  for item in arr:\n",
        "    answer += item\n",
        "  if(num):\n",
        "    print(answer)\n",
        "  else: print(answer.lower())\n",
        "  '''\n",
        "  #강사님 코드 --------------------------------------------\n",
        "  #파이썬에서는 a~z까지 의 정보를 미리 상수(constants)로 정의해놓았다.\n",
        "  import string\n",
        "  print(string.ascii_lowercase)\n",
        "  print(string.ascii_uppercase)\n",
        "  print(string.ascii_letters)\n",
        "  print(string.digits)\n",
        "solution('0')\n",
        "solution('1')"
      ],
      "metadata": {
        "colab": {
          "base_uri": "https://localhost:8080/"
        },
        "id": "H_mqhbryHukA",
        "outputId": "047e407b-fc55-4adb-9213-8631f286c815"
      },
      "execution_count": 6,
      "outputs": [
        {
          "output_type": "stream",
          "name": "stdout",
          "text": [
            "abcdefghijklmnopqrstuvwxyz\n",
            "ABCDEFGHIJKLMNOPQRSTUVWXYZ\n",
            "abcdefghijklmnopqrstuvwxyzABCDEFGHIJKLMNOPQRSTUVWXYZ\n",
            "0123456789\n",
            "abcdefghijklmnopqrstuvwxyz\n",
            "ABCDEFGHIJKLMNOPQRSTUVWXYZ\n",
            "abcdefghijklmnopqrstuvwxyzABCDEFGHIJKLMNOPQRSTUVWXYZ\n",
            "0123456789\n"
          ]
        }
      ]
    },
    {
      "cell_type": "code",
      "source": [
        ""
      ],
      "metadata": {
        "id": "O7S6sBlaY1gp"
      },
      "execution_count": null,
      "outputs": []
    }
  ]
}