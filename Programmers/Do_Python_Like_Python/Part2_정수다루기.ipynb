{
  "nbformat": 4,
  "nbformat_minor": 0,
  "metadata": {
    "colab": {
      "name": "Part2_정수다루기.ipynb",
      "provenance": [],
      "collapsed_sections": [],
      "toc_visible": true,
      "authorship_tag": "ABX9TyM2bC/xgIadrDaYsFqili0k",
      "include_colab_link": true
    },
    "kernelspec": {
      "name": "python3",
      "display_name": "Python 3"
    },
    "language_info": {
      "name": "python"
    }
  },
  "cells": [
    {
      "cell_type": "markdown",
      "metadata": {
        "id": "view-in-github",
        "colab_type": "text"
      },
      "source": [
        "<a href=\"https://colab.research.google.com/github/jo1132/Endless_Studying/blob/main/Programmers/Do_Python_Like_Python/Part2_%EC%A0%95%EC%88%98%EB%8B%A4%EB%A3%A8%EA%B8%B0.ipynb\" target=\"_parent\"><img src=\"https://colab.research.google.com/assets/colab-badge.svg\" alt=\"Open In Colab\"/></a>"
      ]
    },
    {
      "cell_type": "markdown",
      "source": [
        "# 프로그래머스 파이썬을 파이썬답게 강의"
      ],
      "metadata": {
        "id": "GkEqol1J6VRz"
      }
    },
    {
      "cell_type": "markdown",
      "source": [
        "## 몫과 나머지\n",
        "- 숫자 a, b가 주어졌을 떄, a를 b로 나눈 몫과 a를 b로 나눈 나머지를 공백으로 구분해 출력해보세요."
      ],
      "metadata": {
        "id": "HVgmJ68P6aIl"
      }
    },
    {
      "cell_type": "code",
      "execution_count": 3,
      "metadata": {
        "colab": {
          "base_uri": "https://localhost:8080/"
        },
        "id": "LlvIExHG6RgL",
        "outputId": "6b69f56f-faae-4e38-9a97-84cd91dc4d3a"
      },
      "outputs": [
        {
          "output_type": "stream",
          "name": "stdout",
          "text": [
            "(1, 2)\n",
            "(0, 1)\n"
          ]
        }
      ],
      "source": [
        "def solution (data):\n",
        "  a, b = map(int, data.strip().split(' '))\n",
        "\n",
        "  #처음 코드\n",
        "  #print(a//b, a%b)\n",
        "  \n",
        "  #강의 코드\n",
        "  print(divmod(a, b))\n",
        "  print(*divmod(a, b))\n",
        "  '''\n",
        "  divmod는 위 처음 코드의 출력을 튜플로 반환해 준다.\n",
        "  앞에 *를 붙혀서 튜플을 Unpack 해서 print로 넘겨줬다. 그래서 ' '로 구분되서 print된다.\n",
        "  '''\n",
        "\n",
        "solution('5 3')\n",
        "solution('1 2')"
      ]
    },
    {
      "cell_type": "code",
      "source": [
        ""
      ],
      "metadata": {
        "id": "GszbtWxU60wq"
      },
      "execution_count": null,
      "outputs": []
    }
  ]
}