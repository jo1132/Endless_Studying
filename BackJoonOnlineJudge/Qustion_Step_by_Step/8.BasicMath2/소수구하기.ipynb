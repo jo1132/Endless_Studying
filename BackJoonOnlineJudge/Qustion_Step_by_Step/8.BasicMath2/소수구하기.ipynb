{
  "nbformat": 4,
  "nbformat_minor": 0,
  "metadata": {
    "colab": {
      "name": "소수구하기.ipynb",
      "provenance": [],
      "collapsed_sections": [],
      "authorship_tag": "ABX9TyPgGqL8eVqJV7PqYRg45K8t",
      "include_colab_link": true
    },
    "kernelspec": {
      "name": "python3",
      "display_name": "Python 3"
    },
    "language_info": {
      "name": "python"
    }
  },
  "cells": [
    {
      "cell_type": "markdown",
      "metadata": {
        "id": "view-in-github",
        "colab_type": "text"
      },
      "source": [
        "<a href=\"https://colab.research.google.com/github/jo1132/Endless_Studying/blob/main/BackJoonOnlineJudge/Qustion_Step_by_Step/8.BasicMath2/%EC%86%8C%EC%88%98%EA%B5%AC%ED%95%98%EA%B8%B0.ipynb\" target=\"_parent\"><img src=\"https://colab.research.google.com/assets/colab-badge.svg\" alt=\"Open In Colab\"/></a>"
      ]
    },
    {
      "cell_type": "markdown",
      "source": [
        "# 기본수학2단계 소수구하기\n",
        "> https://www.acmicpc.net/problem/1929\n",
        "\n",
        "# 문제 알아보기\n",
        "## 문제\n",
        " > M이상 N이하의 소수를 모두 출력하는 프로그램을 작성하시오.\n",
        "\n",
        "## 입력\n",
        "> 첫째 줄에 자연수 M과 N이 빈 칸을 사이에 두고 주어진다. (1 <= M <= N <= 1,000,000) M이상 N이하의 소수가 하나 이상 있는 입력만 주어진다.\n",
        "\n",
        "## 출력\n",
        "> 한 줄에 하나씩, 증가하는 순서대로 소수를 출력한다.\n",
        "\n",
        "## 예제\n",
        "> https://www.acmicpc.net/problem/1929 참조\n",
        "\n",
        "<br>\n",
        "\n",
        "---\n",
        "# 문제 풀기\n",
        "## 소수\n",
        "> 소수(Prime Number)는 1을 제외한 양의 정수에서, 1과 자기자신만을 약수로 가지는 수를 의미한다.\n",
        "예를들어 11은 1과 11을 곱해서만 만들 수 있기 때문에 소수이다..\n",
        "또, 4는 1*4, 2*2 로 만들 수 있기 때문에 소수가 아니다.\n",
        "\n",
        "## 에라토스테네스의 체\n",
        "![](https://images.velog.io/images/jo1132/post/37ce6eab-afd6-4442-a64c-ced884b41166/image.png)\n",
        ">https://ko.wikipedia.org/wiki/%EC%97%90%EB%9D%BC%ED%86%A0%EC%8A%A4%ED%85%8C%EB%84%A4%EC%8A%A4%EC%9D%98_%EC%B2%B4\n",
        "\n",
        "> 1을 제외하고 2부터 시작하여 구하고자 하는 수 end 까지 나열한 후, end의 배수를 나열한 리스트에서 모두 제외한다. 그렇게 E // 2의 배수들까지 모두 제외하면 남은 수는 모두 소수가 된다.\n"
      ],
      "metadata": {
        "id": "b4iov7fJL2JA"
      }
    },
    {
      "cell_type": "markdown",
      "source": [
        "## 코드\n"
      ],
      "metadata": {
        "id": "_Bv8nyYFL6dD"
      }
    },
    {
      "cell_type": "code",
      "execution_count": 1,
      "metadata": {
        "colab": {
          "base_uri": "https://localhost:8080/"
        },
        "id": "5sPPIRbWL1aE",
        "outputId": "b00addfb-a11c-4426-bbf2-317c3eea3d67"
      },
      "outputs": [
        {
          "output_type": "stream",
          "name": "stdout",
          "text": [
            "3 16\n",
            "3\n",
            "5\n",
            "7\n",
            "11\n",
            "13\n"
          ]
        }
      ],
      "source": [
        "start, end = list(map(int, input().split(' '))) #백준에서 정수 입력값 받기\n",
        "\n",
        "#구하고자 하는 수 까지 나열한다. (end + 1)하여 end까지 포함하도록 한다.\n",
        "arr = [True for i in range(end+1)] \n",
        "\n",
        "for i in range(2, end): #2부터 end까지 배수를 구한다.\n",
        "    j = 2\n",
        "    while i*j <= end:\t#배수가 end를 넘지 않도록 한다.\n",
        "        arr[i*j] = False\n",
        "        j += 1\n",
        "\n",
        "arr[1] = False #1은 소수에서 제외한다.\n",
        "for i in range(start, end+1):#start부터 end까지의 소수 출력\n",
        "    if(arr[i]):\n",
        "        print(i)"
      ]
    }
  ]
}