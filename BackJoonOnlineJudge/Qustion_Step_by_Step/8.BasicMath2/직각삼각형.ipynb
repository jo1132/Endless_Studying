{
  "nbformat": 4,
  "nbformat_minor": 0,
  "metadata": {
    "colab": {
      "name": "직각삼각형.ipynb",
      "provenance": [],
      "collapsed_sections": [],
      "authorship_tag": "ABX9TyMFVteLvWd+bLKJCOr6k1aY",
      "include_colab_link": true
    },
    "kernelspec": {
      "name": "python3",
      "display_name": "Python 3"
    },
    "language_info": {
      "name": "python"
    }
  },
  "cells": [
    {
      "cell_type": "markdown",
      "metadata": {
        "id": "view-in-github",
        "colab_type": "text"
      },
      "source": [
        "<a href=\"https://colab.research.google.com/github/jo1132/Endless_Studying/blob/main/BackJoonOnlineJudge/Qustion_Step_by_Step/8.BasicMath2/%EC%A7%81%EA%B0%81%EC%82%BC%EA%B0%81%ED%98%95.ipynb\" target=\"_parent\"><img src=\"https://colab.research.google.com/assets/colab-badge.svg\" alt=\"Open In Colab\"/></a>"
      ]
    },
    {
      "cell_type": "markdown",
      "source": [
        "# 🚩 기본수학2단계 직각삼각형\n",
        "> https://www.acmicpc.net/problem/4153\n",
        "\n",
        "<br>\n",
        "\n",
        "---\n",
        "\n",
        "# 🔎문제 알아보기\n",
        "## ✔ 문제\n",
        ">\n",
        "![](https://images.velog.io/images/jo1132/post/c08d1d8d-aec4-4df2-84e4-cee4c00f707e/%EC%A7%81%EA%B0%81%EC%82%BC%EA%B0%81%ED%98%951.jpg)\n",
        "과거 이집트인들은 각 변들의 길이가 3, 4, 5인 삼각형이 직각 삼각형인 것을 알아냈다. 주어진 세변의 길이로 삼각형이 직각인지 아닌지 구분하시오.\n",
        "\n",
        "## ✔ 입력\n",
        "> \n",
        "입력은 여러개의 테스트 케이스가 주어지며, \n",
        "마지막줄에는 0 0 0이 입력되어 종료를 알린다.\n",
        "각 테스트 케이스는 30,000미만의 정수로 되어있다.\n",
        "\n",
        "## ✔ 출력\n",
        "> 각 입력에 대해 직각 삼각형이 맞다면 \"right\", 아니라면 \"wrong\"을 출력한다.\n",
        "\n",
        "<br>\n",
        "\n",
        "---\n",
        "# 💡 문제 풀기\n",
        "## ✔ 피타고라스의 정리\n",
        ">\n",
        "![](https://images.velog.io/images/jo1132/post/9187c227-bbb0-4093-ba88-1c22c88825c3/%EC%A7%81%EA%B0%81%EC%82%BC%EA%B0%81%ED%98%952.jpg)\n",
        "- **직각 삼각형의 빗변의 제곱이 두 직각변의 제곱의 합과 같다.**\n",
        "즉, 삼각형일 때, 한 변의 제곱이 나머지 두 제곱의 합과 같으면 직각 삼각형이라 할 수 있다. (?)\n",
        "\n",
        "## 📍 주의할점\n",
        "> **세 변의 길이를 주지만, 어느 길이가 빗변인지 알려주지 않는다!**\n"
      ],
      "metadata": {
        "id": "_i0o4aydzx8A"
      }
    },
    {
      "cell_type": "code",
      "execution_count": 2,
      "metadata": {
        "colab": {
          "base_uri": "https://localhost:8080/"
        },
        "id": "b_vF8wMCWGCv",
        "outputId": "f997e472-2f13-4ff1-b937-8ab61a609089"
      },
      "outputs": [
        {
          "output_type": "stream",
          "name": "stdout",
          "text": [
            "6 8 10\n",
            "0 0 0\n",
            "right\n"
          ]
        }
      ],
      "source": [
        "data = []\n",
        "while True:\n",
        "  data.append(list(map(int, input().split(' '))))\n",
        "  if(sum(data[-1]) == 0):\n",
        "    data.pop()\n",
        "    break\n",
        "\n",
        "for a, b, c in data:\n",
        "  if(c**2 == a**2 + b**2) or (a**2 == c**2 + b**2) or (b**2 == a**2 + c**2):\n",
        "    print('right')\n",
        "  else:\n",
        "    print('wrong')"
      ]
    },
    {
      "cell_type": "code",
      "source": [
        ""
      ],
      "metadata": {
        "id": "IrOZrsZDWTxD"
      },
      "execution_count": null,
      "outputs": []
    }
  ]
}